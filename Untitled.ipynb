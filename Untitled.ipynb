{
 "cells": [
  {
   "cell_type": "code",
   "execution_count": 1,
   "id": "5dd16823",
   "metadata": {},
   "outputs": [
    {
     "name": "stdout",
     "output_type": "stream",
     "text": [
      "Defaulting to user installation because normal site-packages is not writeable\n",
      "Requirement already satisfied: sqlalchemy in /home/pmaia/.local/lib/python3.10/site-packages (1.4.42)\n",
      "Requirement already satisfied: greenlet!=0.4.17 in /home/pmaia/.local/lib/python3.10/site-packages (from sqlalchemy) (2.0.0)\n"
     ]
    }
   ],
   "source": [
    "!pip install sqlalchemy\n"
   ]
  },
  {
   "cell_type": "code",
   "execution_count": 2,
   "id": "694c30f9",
   "metadata": {},
   "outputs": [],
   "source": [
    "import sqlalchemy"
   ]
  },
  {
   "cell_type": "code",
   "execution_count": 3,
   "id": "7364edd5",
   "metadata": {},
   "outputs": [
    {
     "ename": "AttributeError",
     "evalue": "module 'sqlalchemy' has no attribute '__version'",
     "output_type": "error",
     "traceback": [
      "\u001b[0;31m---------------------------------------------------------------------------\u001b[0m",
      "\u001b[0;31mAttributeError\u001b[0m                            Traceback (most recent call last)",
      "\u001b[0;32m/tmp/ipykernel_47456/3953593945.py\u001b[0m in \u001b[0;36m<module>\u001b[0;34m\u001b[0m\n\u001b[0;32m----> 1\u001b[0;31m \u001b[0msqlalchemy\u001b[0m\u001b[0;34m.\u001b[0m \u001b[0m__version\u001b[0m\u001b[0;34m\u001b[0m\u001b[0;34m\u001b[0m\u001b[0m\n\u001b[0m",
      "\u001b[0;31mAttributeError\u001b[0m: module 'sqlalchemy' has no attribute '__version'"
     ]
    }
   ],
   "source": [
    "sqlalchemy. __version"
   ]
  },
  {
   "cell_type": "code",
   "execution_count": null,
   "id": "eafc7586",
   "metadata": {},
   "outputs": [],
   "source": [
    "sqlalchemy.__version"
   ]
  },
  {
   "cell_type": "code",
   "execution_count": null,
   "id": "3f56aabe",
   "metadata": {},
   "outputs": [],
   "source": [
    "sqlalchemy. __version__"
   ]
  },
  {
   "cell_type": "markdown",
   "id": "a1b0eda7",
   "metadata": {},
   "source": [
    "#Conexão com banco de dados"
   ]
  },
  {
   "cell_type": "code",
   "execution_count": 11,
   "id": "ea53055e",
   "metadata": {},
   "outputs": [],
   "source": [
    "engine = sqlalchemy.create_engine('sqlite:///minicurso.db', echo = True)"
   ]
  },
  {
   "cell_type": "code",
   "execution_count": 12,
   "id": "9117263a",
   "metadata": {},
   "outputs": [],
   "source": [
    "#Declarando o mapeamento"
   ]
  },
  {
   "cell_type": "code",
   "execution_count": 13,
   "id": "c7ee7aa2",
   "metadata": {},
   "outputs": [],
   "source": [
    "from sqlalchemy.orm import declarative_base\n",
    "from sqlalchemy import Column,Integer,String"
   ]
  },
  {
   "cell_type": "code",
   "execution_count": 14,
   "id": "28cc1a1b",
   "metadata": {},
   "outputs": [],
   "source": [
    "Base = declarative_base()"
   ]
  },
  {
   "cell_type": "code",
   "execution_count": 15,
   "id": "b67792c7",
   "metadata": {},
   "outputs": [],
   "source": [
    "class User(Base):\n",
    "    __tablename__ = 'users' #obrigatorio\n",
    "    id = Column(Integer,primary_key=True) #Obrigatorio\n",
    "    name = Column(String(50))\n",
    "    fullname = Column(String(50))\n",
    "    age = Column(Integer)\n",
    "    \n",
    "    def __repr__(self):\n",
    "        return \"<User(name={},fullname={},age={})>\".format(self.name,self.fullname,self.age)"
   ]
  },
  {
   "cell_type": "code",
   "execution_count": 16,
   "id": "0226bfbb",
   "metadata": {},
   "outputs": [],
   "source": [
    "#Criando Tabela no banco de dados"
   ]
  },
  {
   "cell_type": "code",
   "execution_count": 17,
   "id": "d16052ea",
   "metadata": {},
   "outputs": [
    {
     "name": "stdout",
     "output_type": "stream",
     "text": [
      "2022-10-31 19:15:56,709 INFO sqlalchemy.engine.Engine BEGIN (implicit)\n",
      "2022-10-31 19:15:56,712 INFO sqlalchemy.engine.Engine PRAGMA main.table_info(\"users\")\n",
      "2022-10-31 19:15:56,712 INFO sqlalchemy.engine.Engine [raw sql] ()\n",
      "2022-10-31 19:15:56,713 INFO sqlalchemy.engine.Engine PRAGMA temp.table_info(\"users\")\n",
      "2022-10-31 19:15:56,713 INFO sqlalchemy.engine.Engine [raw sql] ()\n",
      "2022-10-31 19:15:56,714 INFO sqlalchemy.engine.Engine \n",
      "CREATE TABLE users (\n",
      "\tid INTEGER NOT NULL, \n",
      "\tname VARCHAR(50), \n",
      "\tfullname VARCHAR(50), \n",
      "\tage INTEGER, \n",
      "\tPRIMARY KEY (id)\n",
      ")\n",
      "\n",
      "\n",
      "2022-10-31 19:15:56,715 INFO sqlalchemy.engine.Engine [no key 0.00046s] ()\n",
      "2022-10-31 19:15:57,066 INFO sqlalchemy.engine.Engine COMMIT\n"
     ]
    }
   ],
   "source": [
    "Base.metadata.create_all(engine)"
   ]
  },
  {
   "cell_type": "code",
   "execution_count": 18,
   "id": "8c8254d7",
   "metadata": {},
   "outputs": [],
   "source": [
    "#Criar instancias da classe"
   ]
  },
  {
   "cell_type": "code",
   "execution_count": 19,
   "id": "f7c91e13",
   "metadata": {},
   "outputs": [],
   "source": [
    "user = User(name = 'Pedro' , fullname = 'Pedro Ulisses' , age = 19)"
   ]
  },
  {
   "cell_type": "code",
   "execution_count": 20,
   "id": "98beca2c",
   "metadata": {},
   "outputs": [
    {
     "data": {
      "text/plain": [
       "'Pedro'"
      ]
     },
     "execution_count": 20,
     "metadata": {},
     "output_type": "execute_result"
    }
   ],
   "source": [
    "user.name"
   ]
  },
  {
   "cell_type": "code",
   "execution_count": 21,
   "id": "c783b565",
   "metadata": {},
   "outputs": [
    {
     "data": {
      "text/plain": [
       "'Pedro Ulisses'"
      ]
     },
     "execution_count": 21,
     "metadata": {},
     "output_type": "execute_result"
    }
   ],
   "source": [
    "user.fullname"
   ]
  },
  {
   "cell_type": "code",
   "execution_count": 22,
   "id": "f9d0dd22",
   "metadata": {},
   "outputs": [],
   "source": [
    "#Criar uma sessão"
   ]
  },
  {
   "cell_type": "code",
   "execution_count": 23,
   "id": "4a450241",
   "metadata": {},
   "outputs": [],
   "source": [
    "from sqlalchemy.orm import sessionmaker"
   ]
  },
  {
   "cell_type": "code",
   "execution_count": 24,
   "id": "1d765080",
   "metadata": {},
   "outputs": [
    {
     "data": {
      "text/plain": [
       "sessionmaker(class_='Session', bind=Engine(sqlite:///minicurso.db), autoflush=True, autocommit=False, expire_on_commit=True)"
      ]
     },
     "execution_count": 24,
     "metadata": {},
     "output_type": "execute_result"
    }
   ],
   "source": [
    "Session = sessionmaker(bind=engine)\n",
    "Session"
   ]
  },
  {
   "cell_type": "code",
   "execution_count": 25,
   "id": "aba253e9",
   "metadata": {},
   "outputs": [],
   "source": [
    "session = Session()"
   ]
  },
  {
   "cell_type": "code",
   "execution_count": 26,
   "id": "17d51a98",
   "metadata": {},
   "outputs": [],
   "source": [
    "#Adicionar objetos (INSERT)"
   ]
  },
  {
   "cell_type": "code",
   "execution_count": 27,
   "id": "ff3fc1da",
   "metadata": {},
   "outputs": [],
   "source": [
    "session.add(user)"
   ]
  },
  {
   "cell_type": "code",
   "execution_count": 28,
   "id": "001b7a14",
   "metadata": {},
   "outputs": [
    {
     "name": "stdout",
     "output_type": "stream",
     "text": [
      "2022-10-31 19:16:13,391 INFO sqlalchemy.engine.Engine BEGIN (implicit)\n",
      "2022-10-31 19:16:13,394 INFO sqlalchemy.engine.Engine INSERT INTO users (name, fullname, age) VALUES (?, ?, ?)\n",
      "2022-10-31 19:16:13,395 INFO sqlalchemy.engine.Engine [generated in 0.00062s] ('Pedro', 'Pedro Ulisses', 19)\n",
      "2022-10-31 19:16:13,396 INFO sqlalchemy.engine.Engine COMMIT\n"
     ]
    }
   ],
   "source": [
    "session.commit()"
   ]
  },
  {
   "cell_type": "code",
   "execution_count": 29,
   "id": "78a0bdd4",
   "metadata": {},
   "outputs": [],
   "source": [
    "session.add_all([\n",
    "    User(name = 'Rodrigo' , fullname = 'Rodrigo Ulisses' , age = 29),\n",
    "    User(name = 'A' , fullname = 'A B' , age = 22)\n",
    "])"
   ]
  },
  {
   "cell_type": "code",
   "execution_count": 30,
   "id": "553f5234",
   "metadata": {},
   "outputs": [
    {
     "data": {
      "text/plain": [
       "IdentitySet([<User(name=Rodrigo,fullname=Rodrigo Ulisses,age=29)>, <User(name=A,fullname=A B,age=22)>])"
      ]
     },
     "execution_count": 30,
     "metadata": {},
     "output_type": "execute_result"
    }
   ],
   "source": [
    "session.new"
   ]
  },
  {
   "cell_type": "code",
   "execution_count": 31,
   "id": "0c609ecf",
   "metadata": {},
   "outputs": [
    {
     "data": {
      "text/plain": [
       "IdentitySet([<User(name=Rodrigo,fullname=Rodrigo Ulisses,age=29)>, <User(name=A,fullname=A B,age=22)>])"
      ]
     },
     "execution_count": 31,
     "metadata": {},
     "output_type": "execute_result"
    }
   ],
   "source": [
    "session.new"
   ]
  },
  {
   "cell_type": "code",
   "execution_count": null,
   "id": "91d5cb23",
   "metadata": {},
   "outputs": [],
   "source": []
  },
  {
   "cell_type": "code",
   "execution_count": null,
   "id": "d26ebb24",
   "metadata": {},
   "outputs": [],
   "source": []
  }
 ],
 "metadata": {
  "kernelspec": {
   "display_name": "Python 3 (ipykernel)",
   "language": "python",
   "name": "python3"
  },
  "language_info": {
   "codemirror_mode": {
    "name": "ipython",
    "version": 3
   },
   "file_extension": ".py",
   "mimetype": "text/x-python",
   "name": "python",
   "nbconvert_exporter": "python",
   "pygments_lexer": "ipython3",
   "version": "3.11.0"
  }
 },
 "nbformat": 4,
 "nbformat_minor": 5
}
